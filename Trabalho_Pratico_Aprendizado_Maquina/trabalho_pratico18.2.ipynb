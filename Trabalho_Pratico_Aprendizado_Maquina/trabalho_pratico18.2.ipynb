{
 "cells": [
  {
   "cell_type": "markdown",
   "metadata": {
    "id": "4i26klKyhvG5",
    "colab_type": "text"
   },
   "source": [
    "# Trabalho Prático\n",
    "\n",
    "Disciplina: DAS-410058 - Aprendizagem de Máquina\n",
    "\n",
    "Equipe:  Eduardo Otte Hülse, Guilherme Cornelli Souza, Ígor Yamamoto e Lucas Peruzzo\n",
    "                \n",
    "Assunto: Aprendizado Indutivo\n",
    "\n",
    "Data: 13/09/2018\n",
    "\n",
    "---\n",
    "\n",
    "## Referências\n",
    "\n",
    "Segue uma lista de referências utilizadas neste trabalho:\n",
    "1. http://www.cs.cmu.edu/afs/cs.cmu.edu/project/theo-20/www/data/webkb-data.gtar.gz\n",
    "1. Quinlan JR. C4.5: Programs for Machine Learning. San Mateo: Morgan Kaufmann; 1993.\n",
    "1. Breiman L, Friedman JH, Olshen RA, Stone CJ. Classification and Regression Trees. CRC Press; 1984.\n",
    "1. http://scikit-learn.org/stable/modules/svm.html\n",
    "1. http://scikit-learn.org/stable/modules/tree.html#classification\n",
    "1. http://chrisstrelioff.ws/sandbox/2015/06/08/decision_trees_in_python_with_scikit_learn_and_pandas.html\n",
    "1. https://www.crummy.com/software/BeautifulSoup/bs4/doc/"
   ]
  },
  {
   "cell_type": "markdown",
   "metadata": {
    "id": "SvmS2vb-hvG9",
    "colab_type": "text"
   },
   "source": [
    "## Introdução\n",
    "\n",
    "Este trabalho tem como objetivo implementar e experimentar a resolução de problemas com aprendizado por exemplos, em particular, em aplicações de data-mining. \n",
    "\n",
    "### Problema\n",
    "\n",
    "O problema consiste em classificar páginas web de conteúdo acadêmico como sendo dos seguintes tipos:\n",
    "* curso (course)\n",
    "* departamento (department)\n",
    "* professor (faculty)\n",
    "* outro tipo (other)\n",
    "* projeto (project)\n",
    "* membro da faculdade (staff)\n",
    "* estudante (student)\n",
    "\n",
    "### Metodologia\n",
    "\n",
    "O trabalho deve ser realizado tomando como base exemplos já classificados de páginas web disponíveins em [1]. A partir destes exemplos deve-se avaliar a qualidade de pelo menos duas técnicas/algoritimos de classificação. Para isso deve-se reservar alguns exemplos para avaliação.\n",
    "As técnicas/algoritmos escolhidos para este trabalho são:\n",
    "1. Árvores de Decisão / CART (Classification and Regression Trees)\n",
    "2. SVM (Support Vector Machine) / \n",
    "\n",
    "As ferramentas utilizadas para este trabalho se baseam em bibliotecas da linguagem de programação python3. Além dos recursos básicos para leitura e manipulação de arquivos, já disponíveis na biblioteca padrão da linguagem, foram utilizadas outras bibliotecas. A biblioteca *Beautifulsoup4* foi utilizada na etapa de pré-processamento dos dados pois auxiliou no *parsing* dos arquivos html. Outra biblioteca utilizada neste etapa foi a biblioteca *pandas*. Na parte de treinamento e análise dos algoritmos utilizou-se a biblioteca *sckikit-learn* e seus algoritmos de aprendizado indutivo. Esta mesma biblioteca foi utilizada para analise dos resultados, além do uso do matplotlib, seaborn e graphviz para a geração dos gráficos e diagramas. O ambiente desenvolvimento dos experimentos foi o Jupyter-lab, e o ambiente computacional dos resultados apresentado neste relatório foi um Intel® Core™ i7-2620M CPU @ 2.70GHz × 4 com 16 GB de RAM.\n",
    "\n",
    "Este relatório é dividido nas seguintes partes. Na primeira parte são descritos as técnicas/algoritmos utilizados para classificação neste trabalho. Na segunda parte é descrito o pré-processamento dos dados disponibilizados para o treinamento, além de indicar como foram gerados os conjuntos de treinamento e teste. Na última parte são apresentados os resultados da avaliação das técnicas escolhidas para aprendizado indutivo do problema de classificação de páginas acadêmicas."
   ]
  },
  {
   "cell_type": "markdown",
   "metadata": {
    "id": "iYsprlDghvHA",
    "colab_type": "text"
   },
   "source": [
    "## Técnicas de aprendizado indutivo\n",
    "\n",
    "Diversas técnicas de aprendizado indutivo podem ser utilizadas para encontrar um classificador para o problema descrito neste trabalho. A seguir são apresentadas breves descrições de cada um dos métodos escolhidos neste trabalho. \n",
    "\n",
    "### Árvores de Decisão\n",
    "\n",
    "Árvores de decisão é uma técnica que tem como objetivo criar um modelo de predição em que dado um conjunto de entradas, ele tenta prever o valor correto de saída. Esta é uma técnica muito utilizada em *data-mining* e por isso se enquandra bem para o problema que se pretende resolver neste trabalho.\n",
    "\n",
    "Os algoritmos de aprendizado por árvores de decisão constroem a árvore a partir de tuplas de etiquetas de aprendizado.\n",
    "A estrutura de uma árvore de decisão é composta por um nó raiz, nós internos, e nós terminais (folha). Cada nó intermediário é responsável por testar um dos atributos e rotear o fluxo de decisão para um dos nós subsequentes. Os nós terminais determinam uma decisão de classificação. O nó por onde se inicia o fluxo de decisão de um árvore é denominado nó raiz.\n",
    "\n",
    "Existe uma série de algoritmos que implementam uma árvore de decisão. Eles se diferenciam em diversos aspectos como, o tipo de dados de entrada (*classification trees*, *regression trees*), se obtém o resultado baseando-se em uma ou diverssas árvores (*single tree*, *boosted trees*, *bootstrap aggregated*, *rotation forest*), ou então em quais métricas são utilizados na construção das árvores (*gini index*, *information gain*, *variation reduction*).\n",
    "\n",
    "Neste trabalho é utilizado o algoritmo CART.\n",
    "\n",
    "#### CART\n",
    "\n",
    "O algoritmo clássico para construção de árvores de aprendizagem e que foi apresentado durante o curso de Aprendizamge de Máquinas é o ID3 (Iteractive Dichotomiser 3). A partir deste algoritmo foram desenvolvidos vários outras versões. Uma destas que vale a menção é o algoritmo C4.5 [2], um sucessor do ID3. Além das tradicionais etiquetas categóricas que já era empregadas no ID3, este algoritmo permitiu o uso de etiquetas com valores contínuos, atráves da criação dinâmica de intervalos de separação.\n",
    "Outro algoritmo muito semelhante ao C4.5 é o CART (Classification and Regression Trees) [3]. Além de aceitar o tratamento de etiquetas com valores contínuos, este algoritmo suporta a classificação obtida ser um valor contínuo. Isto é possível pois o algortimo CART constroi, tanto as árvores de classificação do ID3 e do C4.5, quanto árvores de regressão a depender da natureza da variável que se esteja classificando.\n",
    "\n",
    "Os algoritmos ID3 e C4.5 utilizam a métrica de *information gain*, ou seja o conceito de entropia da teoria da informação, como critério para estabelacer as separações de decição em cada nó da árvore.\n",
    "Diferentemente, o algoritmo CART emprega como métrica o *gini index*. Este critério é uma medida da frequência com que um elemento escolhido aleatóriamente, estará etiquetado de forma incorreta, caso tenha sido etiquetado de maneira aleatória seguindo a distribuição das etiquetas do subconjunto remanecente.\n",
    "O uso do critério *gini index* faz com que as árvores geradas pelo CART tenham apenas divisões binárias de decisão.\n",
    "\n",
    "Para os casos onde a árvore produzida é de regressão a métrica de divisão utilizada pelo CART é a de *variance reduction*.\n",
    "\n",
    "\n",
    "O procedimento do algoritmo de CART envolve as seguintes etapas:\n",
    "* Tomando o nó raiz, calcula-se o *gini index* para os sub-nós gerados a partir de cada possível divisão (segundo cada parâmetro de entrada). Para cada divisão e feita a soma ponderada dos *gini index* e aquele que tiver o maior valor irá indicar uma divisão mais homogênea sendo assim escolhido.\n",
    "* Repetir o processo de divisão para os sub-nós gerados.\n",
    "* O processo encerra quando o algoritmo detecta que não há como obter mais ganhos fazendo divisões nos sub-nós restantes. Estes então ser tornam os nós terminais. Além disso outros critérios também são utilizados para a parada do algoritmo. \n",
    "\n",
    "## Suport Vector Machine\n",
    "\n",
    "bla bla"
   ]
  },
  {
   "cell_type": "markdown",
   "metadata": {
    "id": "sJq-csdshvHD",
    "colab_type": "text"
   },
   "source": [
    "## Pré-processamento de dados\n",
    "\n",
    "Para a atividade de pré-processamento de dados foi escolhida a linguagem python3.\n",
    "Inicialmente é feita a procura por todos os arquivos de exemplo disponíveis. Nesta procura cada item é etiquetado segundo sua classificação de saída, **output**, instituição de origem, **institution** e hiperlink, **file_name**."
   ]
  },
  {
   "cell_type": "markdown",
   "metadata": {
    "id": "V-o6tfithvHJ",
    "colab_type": "text",
    "slideshow": {
     "slide_type": "-"
    }
   },
   "source": [
    "### Leitura"
   ]
  },
  {
   "cell_type": "code",
   "execution_count": 4,
   "metadata": {
    "id": "tBy4zALzhvHL",
    "colab_type": "code",
    "colab": {},
    "outputId": "a4a4f6c8-d33b-4d6f-e7cb-dcc7a2ce5894"
   },
   "outputs": [
    {
     "name": "stdout",
     "output_type": "stream",
     "text": [
      "Aparentemente tudo ok com os dados\n"
     ]
    }
   ],
   "source": [
    "import os\n",
    "data_folder = \"Trabalho_Pratico_Aprendizado_Maquina/webkb\"\n",
    "ROOT_FOLDER = data_folder\n",
    "data = []\n",
    "for output in os.listdir(ROOT_FOLDER):\n",
    "    for institution in os.listdir(os.path.join(ROOT_FOLDER, output)):\n",
    "        for file_name in os.listdir(os.path.join(ROOT_FOLDER, output, institution)):\n",
    "            if os.path.isfile(os.path.join(ROOT_FOLDER, output, institution, file_name)):\n",
    "                data.append({\n",
    "                    'output': output,\n",
    "                    'institution': institution,\n",
    "                    'file_name': file_name\n",
    "                })\n",
    "\n",
    "data = sorted(data, key=lambda k: k['output'])\n",
    "\n",
    "\n",
    "def check_data(dataset):\n",
    "    if len(dataset) != 8282:\n",
    "        print(\"Problema com os arquivos utilizados, a quantidade de arquivos deveria ser 8282, mas a quantidade encontrada foi de\", len(data))\n",
    "    else:\n",
    "        print(\"Aparentemente tudo ok com os dados\")\n",
    "\n",
    "\n",
    "check_data(data)"
   ]
  },
  {
   "cell_type": "markdown",
   "metadata": {
    "id": "09W8UbcfhvHZ",
    "colab_type": "text"
   },
   "source": [
    "### Características\n",
    "\n",
    "A próxima etapa consiste em definir uma série de características, dentro das quais cada um dos arquivos deve ser etiquetado. Foram testadas uma série de caracteristicas durante este estudo, mas nem todas se mostraram eficientes para inferir a classificação do tipo de página web. Segue abaixo a lista de características utilizada nos experimentos, assim como uma lista de características que foram abandonadas.\n",
    "\n",
    "Características utilizadas na classificação:\n",
    "1. Presença de Headers ou Título com determinadas palavras chave\n",
    "2. Presença de determinadas palavras\n",
    "3. Quantidade de ocorrências de determinadas palavras\n",
    "\n",
    "Características abandonadas:\n",
    "1. Presença de emails, e links externos\n",
    "2. Quantidade de emails e links externos com dominio *.edu*\n",
    "\n",
    "Note que as palavras chave utilizadas tanto nos cabeçalhos quanto no conteúdo textual foram extraidas maunalmente sorteando exemplos aleatóriamento e observando os conteúdos das webpages. Abaixo no código, onde cada característica é extraída ten-se a lista completa das palavras utilizadas.\n",
    "\n",
    "Para facilitar a etiquetagem de cada um dos itens segundo as características definidas, utiliza-se a biblioteca beautifulsoap4 (https://pypi.org/project/beautifulsoup4/)."
   ]
  },
  {
   "cell_type": "code",
   "execution_count": 5,
   "metadata": {
    "id": "QfljAsF7hvHd",
    "colab_type": "code",
    "colab": {}
   },
   "outputs": [],
   "source": [
    "from bs4 import BeautifulSoup\n",
    "\n",
    "\n",
    "def get_file_path_from_item(item):\n",
    "    return os.path.join(ROOT_FOLDER, item['output'], item['institution'], item['file_name'])\n",
    "\n",
    "\n",
    "def get_soup(item):\n",
    "    try:\n",
    "        with open(get_file_path_from_item(item)) as f:\n",
    "            soup = BeautifulSoup(f, 'html.parser')\n",
    "    except:\n",
    "        with open(get_file_path_from_item(item), encoding=\"ISO-8859-1\") as f:\n",
    "            soup = BeautifulSoup(f)\n",
    "    return soup\n",
    "\n"
   ]
  },
  {
   "cell_type": "markdown",
   "metadata": {
    "id": "XcXybIjshvHj",
    "colab_type": "text"
   },
   "source": [
    "Cada uma das características é definida abaixo. Por simplicidade foi utilizada a biblioteca pandas, e seus *dataframes* para armazenar as etiquetas geradas para cada característica em cada item."
   ]
  },
  {
   "cell_type": "code",
   "execution_count": 6,
   "metadata": {
    "id": "yAernedOhvHl",
    "colab_type": "code",
    "colab": {},
    "outputId": "14f49640-886c-432a-cb0d-122ce7f270a6"
   },
   "outputs": [
    {
     "name": "stdout",
     "output_type": "stream",
     "text": [
      "Lista com as classificações possíveis: ['course' 'department' 'faculty' 'other' 'project' 'staff' 'student']\n"
     ]
    },
    {
     "data": {
      "text/html": [
       "<div>\n",
       "<style scoped>\n",
       "    .dataframe tbody tr th:only-of-type {\n",
       "        vertical-align: middle;\n",
       "    }\n",
       "\n",
       "    .dataframe tbody tr th {\n",
       "        vertical-align: top;\n",
       "    }\n",
       "\n",
       "    .dataframe thead th {\n",
       "        text-align: right;\n",
       "    }\n",
       "</style>\n",
       "<table border=\"1\" class=\"dataframe\">\n",
       "  <thead>\n",
       "    <tr style=\"text-align: right;\">\n",
       "      <th></th>\n",
       "      <th>file_name</th>\n",
       "      <th>institution</th>\n",
       "      <th>output</th>\n",
       "    </tr>\n",
       "  </thead>\n",
       "  <tbody>\n",
       "    <tr>\n",
       "      <th>0</th>\n",
       "      <td>http_^^cs.cornell.edu^Info^Courses^Current^CS4...</td>\n",
       "      <td>cornell</td>\n",
       "      <td>course</td>\n",
       "    </tr>\n",
       "    <tr>\n",
       "      <th>1</th>\n",
       "      <td>http_^^cs.cornell.edu^Info^Courses^Fall-95^CS4...</td>\n",
       "      <td>cornell</td>\n",
       "      <td>course</td>\n",
       "    </tr>\n",
       "    <tr>\n",
       "      <th>2</th>\n",
       "      <td>http_^^cs.cornell.edu^Info^Courses^Spring-96^C...</td>\n",
       "      <td>cornell</td>\n",
       "      <td>course</td>\n",
       "    </tr>\n",
       "    <tr>\n",
       "      <th>3</th>\n",
       "      <td>http_^^simon.cs.cornell.edu^Info^Courses^Curre...</td>\n",
       "      <td>cornell</td>\n",
       "      <td>course</td>\n",
       "    </tr>\n",
       "    <tr>\n",
       "      <th>4</th>\n",
       "      <td>http_^^simon.cs.cornell.edu^Info^Courses^Sprin...</td>\n",
       "      <td>cornell</td>\n",
       "      <td>course</td>\n",
       "    </tr>\n",
       "  </tbody>\n",
       "</table>\n",
       "</div>"
      ],
      "text/plain": [
       "<div>\n",
       "<style scoped>\n",
       "    .dataframe tbody tr th:only-of-type {\n",
       "        vertical-align: middle;\n",
       "    }\n",
       "\n",
       "    .dataframe tbody tr th {\n",
       "        vertical-align: top;\n",
       "    }\n",
       "\n",
       "    .dataframe thead th {\n",
       "        text-align: right;\n",
       "    }\n",
       "</style>\n",
       "<table border=\"1\" class=\"dataframe\">\n",
       "  <thead>\n",
       "    <tr style=\"text-align: right;\">\n",
       "      <th></th>\n",
       "      <th>file_name</th>\n",
       "      <th>institution</th>\n",
       "      <th>output</th>\n",
       "    </tr>\n",
       "  </thead>\n",
       "  <tbody>\n",
       "    <tr>\n",
       "      <th>0</th>\n",
       "      <td>http_^^cs.cornell.edu^Info^Courses^Current^CS4...</td>\n",
       "      <td>cornell</td>\n",
       "      <td>course</td>\n",
       "    </tr>\n",
       "    <tr>\n",
       "      <th>1</th>\n",
       "      <td>http_^^cs.cornell.edu^Info^Courses^Fall-95^CS4...</td>\n",
       "      <td>cornell</td>\n",
       "      <td>course</td>\n",
       "    </tr>\n",
       "    <tr>\n",
       "      <th>2</th>\n",
       "      <td>http_^^cs.cornell.edu^Info^Courses^Spring-96^C...</td>\n",
       "      <td>cornell</td>\n",
       "      <td>course</td>\n",
       "    </tr>\n",
       "    <tr>\n",
       "      <th>3</th>\n",
       "      <td>http_^^simon.cs.cornell.edu^Info^Courses^Curre...</td>\n",
       "      <td>cornell</td>\n",
       "      <td>course</td>\n",
       "    </tr>\n",
       "    <tr>\n",
       "      <th>4</th>\n",
       "      <td>http_^^simon.cs.cornell.edu^Info^Courses^Sprin...</td>\n",
       "      <td>cornell</td>\n",
       "      <td>course</td>\n",
       "    </tr>\n",
       "  </tbody>\n",
       "</table>\n",
       "</div>"
      ]
     },
     "execution_count": 6,
     "metadata": {},
     "output_type": "execute_result"
    }
   ],
   "source": [
    "import pandas as pd\n",
    "from collections import OrderedDict\n",
    "df = pd.DataFrame(data)\n",
    "\n",
    "outputs = df.output.unique()\n",
    "outputs.sort()\n",
    "\n",
    "print(\"Lista com as classificações possíveis:\", outputs)\n",
    "df.head()"
   ]
  },
  {
   "cell_type": "markdown",
   "metadata": {
    "id": "V0O6ZAbwhvHv",
    "colab_type": "text"
   },
   "source": [
    "#### Hyperlinks"
   ]
  },
  {
   "cell_type": "code",
   "execution_count": 0,
   "metadata": {
    "id": "KX0XGJyJhvHx",
    "colab_type": "code",
    "colab": {}
   },
   "outputs": [],
   "source": [
    "# Contagem de Hyperlinks na página\n",
    "COUNT_HYPERLINKS = [\"number_weblinks_total\", \"number_emails_total\"]\n",
    "\n",
    "def get_emails(item):\n",
    "    soup = get_soup(item)\n",
    "    return [e.get(\"href\") for e in soup.find_all('a') \n",
    "            if e.get(\"href\") != None and e.get(\"href\").startswith('mailto')]\n",
    "\n",
    "def get_weblinks(item):\n",
    "    soup = get_soup(item)\n",
    "    return [e.get(\"href\") for e in soup.find_all('a') \n",
    "            if e.get(\"href\") != None and (e.get(\"href\").find(\"http\") > 0 or e.get(\"href\").find(\"ftp\") > 0)]\n",
    "\n",
    "def number_of_hyperlinks(item):\n",
    "    return len(get_weblinks(item)), len(get_emails(item))\n",
    "\n",
    "\n",
    "df['number_weblinks_total'], df['number_emails_total'] = zip(*df.apply(number_of_hyperlinks, axis=1))"
   ]
  },
  {
   "cell_type": "code",
   "execution_count": 0,
   "metadata": {
    "id": "RDly7naDhvH3",
    "colab_type": "code",
    "colab": {}
   },
   "outputs": [],
   "source": [
    "# Contém certos tipos de hyperlinks\n",
    "HYPERLINK_TYPES = [\"edu\"]\n",
    "HAS_HYPERLINKS = []\n",
    "for t in HYPERLINK_TYPES:\n",
    "    HAS_HYPERLINKS.extend((\"has_link_\"+t, \"has_email_\"+t))\n",
    "\n",
    "def has_hyperlinks(item):\n",
    "    weblinks = get_weblinks(item)\n",
    "    emails = get_emails(item)\n",
    "    has_hyperlink_type = []\n",
    "    for t in HYPERLINK_TYPES:\n",
    "        has_weblink = False\n",
    "        has_email = False\n",
    "        for w in weblinks:\n",
    "            if w.find(\".\"+t) > 0:\n",
    "                has_weblink = True\n",
    "                break\n",
    "        for e in emails:\n",
    "            if e.find(\".\"+t) > 0:\n",
    "                has_email = True\n",
    "                break\n",
    "        has_hyperlink_type.extend((has_weblink, has_email))\n",
    "    return has_hyperlink_type\n",
    "\n",
    "temp = list(zip(*df.apply(has_hyperlinks, axis=1)))\n",
    "for idx, element in enumerate(HAS_HYPERLINKS):\n",
    "    df[element] = temp[idx]\n",
    "del(temp)"
   ]
  },
  {
   "cell_type": "markdown",
   "metadata": {
    "id": "L2vkh5g2hvH-",
    "colab_type": "text"
   },
   "source": [
    "#### Header"
   ]
  },
  {
   "cell_type": "code",
   "execution_count": 0,
   "metadata": {
    "id": "7iaQdFB7hvIA",
    "colab_type": "code",
    "colab": {}
   },
   "outputs": [],
   "source": [
    "# Headers\n",
    "HEADER_TYPE = [\"department\", \"prof\", \"uni\", \"college\", \"project\", \"people\"]\n",
    "HAS_HEADER = []\n",
    "for t in HEADER_TYPE:\n",
    "    HAS_HEADER.extend((\"has_title_\"+t, \"has_header_\"+t))\n",
    "\n",
    "\n",
    "def get_titles(item):\n",
    "    soup = get_soup(item)\n",
    "    return [t.get_text().lower() for t in soup.find_all('title') if t != None]\n",
    "\n",
    "\n",
    "def get_headers(item):\n",
    "    soup = get_soup(item)\n",
    "    return [h.get_text().lower() for i in range(1,5) for h in soup.find_all('h'+str(i)) if h != None]\n",
    "\n",
    "\n",
    "def has_elements_in_headers(item):\n",
    "    titles = get_titles(item)\n",
    "    headers = get_headers(item)\n",
    "    has_header_type = []\n",
    "    for ht in HEADER_TYPE:\n",
    "        has_title = False\n",
    "        has_header = False\n",
    "        for t in titles:\n",
    "            if t.find(ht.lower()) > 0:\n",
    "                has_title = True\n",
    "                break\n",
    "        for h in headers:\n",
    "            if h.find(ht.lower()) > 0:\n",
    "                has_header = True\n",
    "                break\n",
    "        has_header_type.extend((has_title, has_header))\n",
    "    return has_header_type\n",
    "\n",
    "\n",
    "temp = list(zip(*df.apply(has_elements_in_headers, axis=1)))\n",
    "for idx, element in enumerate(HAS_HEADER):\n",
    "    df[element] = temp[idx]\n",
    "del(temp)"
   ]
  },
  {
   "cell_type": "markdown",
   "metadata": {
    "id": "KuWHRTRThvIK",
    "colab_type": "text"
   },
   "source": [
    "#### Texto"
   ]
  },
  {
   "cell_type": "code",
   "execution_count": 0,
   "metadata": {
    "id": "3WLTpYb4hvIM",
    "colab_type": "code",
    "colab": {}
   },
   "outputs": [],
   "source": [
    "# Elementos Textuais\n",
    "HAS_TEXT_ELEMENTS = [\"Homework\", \"Lecture\", \"Exam\", \"Material\", \"Syllabu\",\\\n",
    "                     \"Course File\", \"Course Info\", \"Instructor\", \"Prereq\",\\\n",
    "                     \"credit\", \"grade\", \"Exercise\", \"textbook\", \"Topic\",\n",
    "                     \"Department\",\n",
    "                     \"Research\", \"Publication\", \"Teach\", \"talk\", \"Ph.D.\",\\\n",
    "                     \"Professor\", \"Paper\", \"Projects\", \"University\",\\\n",
    "                     \"Recent Publications\", \"Research Interest\", \"Assignment\",\n",
    "                     \"project\", \"report\",\"seminar\", \"group\",\n",
    "                     \"staff\", \"Support\",\n",
    "                     \"student\", \"resume\"]\n",
    "\n",
    "def has_text_elements(item):\n",
    "    soup = get_soup(item)\n",
    "    has_text_elements_list = []\n",
    "    for element in HAS_TEXT_ELEMENTS:\n",
    "        has_text_elements_list.append(soup.get_text().lower().find(element.lower()) >= 0)\n",
    "    return has_text_elements_list\n",
    "\n",
    "temp = list(zip(*df.apply(has_text_elements, axis=1)))\n",
    "for idx, element in enumerate(HAS_TEXT_ELEMENTS):\n",
    "    df[element] = temp[idx]\n",
    "del(temp)\n",
    "\n"
   ]
  },
  {
   "cell_type": "code",
   "execution_count": 0,
   "metadata": {
    "id": "yWroNSnthvIa",
    "colab_type": "code",
    "colab": {}
   },
   "outputs": [],
   "source": [
    "COUNT_TEXT_ELEMENTS = OrderedDict([(\"count_text_department\", \"department\"),\n",
    "                                   (\"count_text_college\", \"college\"),\n",
    "                                   (\"count_text_project\", \"project\")])\n",
    "\n",
    "def count_text_elements(item):\n",
    "    soup = get_soup(item)\n",
    "    count_text_elements_list = []\n",
    "    for element in COUNT_TEXT_ELEMENTS.values():\n",
    "        count_text_elements_list.append(soup.get_text().lower().count(element.lower()))\n",
    "    return count_text_elements_list\n",
    "\n",
    "temp = list(zip(*df.apply(count_text_elements, axis=1)))\n",
    "for idx, element in enumerate(COUNT_TEXT_ELEMENTS.keys()):\n",
    "    df[element] = temp[idx]\n",
    "del(temp)"
   ]
  },
  {
   "cell_type": "code",
   "execution_count": 0,
   "metadata": {
    "id": "HnudXWvwhvIh",
    "colab_type": "code",
    "colab": {}
   },
   "outputs": [],
   "source": [
    "# l = '/home/eohulse/pCloudSync/DISCIPLINAS/DAS410058/trabalho_pratico/webkb/staff/wisconsin/http:^^www.cs.wisc.edu^~pdevries^pdevries.html'\n",
    "# with open(l) as f:\n",
    "#     soup = BeautifulSoup(f)"
   ]
  },
  {
   "cell_type": "code",
   "execution_count": 0,
   "metadata": {
    "id": "MaxjZ-Y1hvIn",
    "colab_type": "code",
    "colab": {}
   },
   "outputs": [],
   "source": [
    "# soup.get_text()"
   ]
  },
  {
   "cell_type": "markdown",
   "metadata": {
    "id": "PJzr9sGuhvIu",
    "colab_type": "text"
   },
   "source": [
    "### Dados de treinamento e teste\n",
    "\n",
    "Finalmente deve-se dividir os exemplos em dois grupos, um contem itens que serão utilizados para treinamento e outro com itens que serão guardados para testar os resultados obtidos com os modelos. O tamanho escolhido para esses grupos foi de:\n",
    "- Grupo de treinamento: 90%\n",
    "- Grupo de teste: 10%"
   ]
  },
  {
   "cell_type": "code",
   "execution_count": 0,
   "metadata": {
    "id": "aHEvxxnchvIw",
    "colab_type": "code",
    "colab": {},
    "outputId": "b356076a-7cf2-4547-85f9-de44e666b7e5"
   },
   "outputs": [
    {
     "name": "stdout",
     "output_type": "stream",
     "text": [
      "[0, 1, 2, 3, 4, 5, 6, 7, 8, 9]\n",
      "[7915, 3726, 4521, 5700, 64, 1683, 3698, 7204, 6045, 4633]\n"
     ]
    }
   ],
   "source": [
    "import random\n",
    "seed = 389751212\n",
    "random.seed(a=seed)\n",
    "\n",
    "items = list(df.index)\n",
    "print(items[:10])\n",
    "items_count = len(items)\n",
    "random.shuffle(items)\n",
    "print(items[:10])\n",
    "df_shuffled = df.reindex(items)\n",
    "\n",
    "training_percentage = 20\n",
    "\n",
    "df_training = df_shuffled[items_count // round(100/training_percentage):]\n",
    "df_testing = df_shuffled[:items_count // round(100/training_percentage)]"
   ]
  },
  {
   "cell_type": "markdown",
   "metadata": {
    "id": "rWEsBKf-hvI3",
    "colab_type": "text"
   },
   "source": [
    "Agora deve-se conferir como ficou a amostragem do ponto de vista dos exemplos de cada grupo de classificação."
   ]
  },
  {
   "cell_type": "code",
   "execution_count": 0,
   "metadata": {
    "id": "DbP9wibvhvI6",
    "colab_type": "code",
    "colab": {},
    "outputId": "8f6944d6-0d22-43a2-d852-585728967ce4"
   },
   "outputs": [
    {
     "data": {
      "text/plain": [
       "output\n",
       "course        79.462366\n",
       "department    82.417582\n",
       "faculty       78.469751\n",
       "other         80.074389\n",
       "project       80.952381\n",
       "staff         83.211679\n",
       "student       80.377818\n",
       "dtype: float64"
      ]
     },
     "execution_count": 12,
     "metadata": {
      "tags": []
     },
     "output_type": "execute_result"
    }
   ],
   "source": [
    "df_aux = pd.concat([df_training.groupby([\"output\"]).size(),df.groupby([\"output\"]).size()],axis=1)\n",
    "100*df_aux[0]/df_aux[1]"
   ]
  },
  {
   "cell_type": "markdown",
   "metadata": {
    "id": "FO6uG99bhvJA",
    "colab_type": "text"
   },
   "source": [
    "Também pode-se verificar quantos e quais etiquetas foram criadas para cada um dos exemplos."
   ]
  },
  {
   "cell_type": "code",
   "execution_count": 0,
   "metadata": {
    "id": "zw0zUCwEhvJB",
    "colab_type": "code",
    "colab": {},
    "outputId": "6b53e616-8105-4401-a37b-d633615ca2dd"
   },
   "outputs": [
    {
     "name": "stdout",
     "output_type": "stream",
     "text": [
      "57 ['file_name', 'institution', 'output', 'number_weblinks_total', 'number_emails_total', 'has_link_edu', 'has_email_edu', 'has_title_department', 'has_header_department', 'has_title_prof', 'has_header_prof', 'has_title_uni', 'has_header_uni', 'has_title_college', 'has_header_college', 'has_title_project', 'has_header_project', 'has_title_people', 'has_header_people', 'Homework', 'Lecture', 'Exam', 'Material', 'Syllabu', 'Course File', 'Course Info', 'Instructor', 'Prereq', 'credit', 'grade', 'Exercise', 'textbook', 'Topic', 'Department', 'Research', 'Publication', 'Teach', 'talk', 'Ph.D.', 'Professor', 'Paper', 'Projects', 'University', 'Recent Publications', 'Research Interest', 'Assignment', 'project', 'report', 'seminar', 'group', 'staff', 'Support', 'student', 'resume', 'count_text_department', 'count_text_college', 'count_text_project']\n"
     ]
    },
    {
     "data": {
      "text/html": [
       "<div>\n",
       "<style scoped>\n",
       "    .dataframe tbody tr th:only-of-type {\n",
       "        vertical-align: middle;\n",
       "    }\n",
       "\n",
       "    .dataframe tbody tr th {\n",
       "        vertical-align: top;\n",
       "    }\n",
       "\n",
       "    .dataframe thead th {\n",
       "        text-align: right;\n",
       "    }\n",
       "</style>\n",
       "<table border=\"1\" class=\"dataframe\">\n",
       "  <thead>\n",
       "    <tr style=\"text-align: right;\">\n",
       "      <th></th>\n",
       "      <th>file_name</th>\n",
       "      <th>institution</th>\n",
       "      <th>output</th>\n",
       "      <th>number_weblinks_total</th>\n",
       "      <th>number_emails_total</th>\n",
       "      <th>has_link_edu</th>\n",
       "      <th>has_email_edu</th>\n",
       "      <th>has_title_department</th>\n",
       "      <th>has_header_department</th>\n",
       "      <th>has_title_prof</th>\n",
       "      <th>...</th>\n",
       "      <th>report</th>\n",
       "      <th>seminar</th>\n",
       "      <th>group</th>\n",
       "      <th>staff</th>\n",
       "      <th>Support</th>\n",
       "      <th>student</th>\n",
       "      <th>resume</th>\n",
       "      <th>count_text_department</th>\n",
       "      <th>count_text_college</th>\n",
       "      <th>count_text_project</th>\n",
       "    </tr>\n",
       "  </thead>\n",
       "  <tbody>\n",
       "    <tr>\n",
       "      <th>7915</th>\n",
       "      <td>http:^^www.ics.uci.edu^~dfrost^</td>\n",
       "      <td>misc</td>\n",
       "      <td>student</td>\n",
       "      <td>0</td>\n",
       "      <td>0</td>\n",
       "      <td>False</td>\n",
       "      <td>False</td>\n",
       "      <td>False</td>\n",
       "      <td>False</td>\n",
       "      <td>False</td>\n",
       "      <td>...</td>\n",
       "      <td>False</td>\n",
       "      <td>False</td>\n",
       "      <td>False</td>\n",
       "      <td>False</td>\n",
       "      <td>False</td>\n",
       "      <td>False</td>\n",
       "      <td>False</td>\n",
       "      <td>0</td>\n",
       "      <td>0</td>\n",
       "      <td>0</td>\n",
       "    </tr>\n",
       "    <tr>\n",
       "      <th>3726</th>\n",
       "      <td>http:^^www.cs.tamu.edu^research^SPI^</td>\n",
       "      <td>misc</td>\n",
       "      <td>department</td>\n",
       "      <td>0</td>\n",
       "      <td>1</td>\n",
       "      <td>False</td>\n",
       "      <td>True</td>\n",
       "      <td>False</td>\n",
       "      <td>False</td>\n",
       "      <td>False</td>\n",
       "      <td>...</td>\n",
       "      <td>False</td>\n",
       "      <td>False</td>\n",
       "      <td>False</td>\n",
       "      <td>False</td>\n",
       "      <td>False</td>\n",
       "      <td>False</td>\n",
       "      <td>False</td>\n",
       "      <td>2</td>\n",
       "      <td>0</td>\n",
       "      <td>1</td>\n",
       "    </tr>\n",
       "    <tr>\n",
       "      <th>4521</th>\n",
       "      <td>http:^^www.cs.utexas.edu^users^almstrum^classe...</td>\n",
       "      <td>texas</td>\n",
       "      <td>course</td>\n",
       "      <td>0</td>\n",
       "      <td>2</td>\n",
       "      <td>False</td>\n",
       "      <td>True</td>\n",
       "      <td>False</td>\n",
       "      <td>False</td>\n",
       "      <td>False</td>\n",
       "      <td>...</td>\n",
       "      <td>False</td>\n",
       "      <td>False</td>\n",
       "      <td>False</td>\n",
       "      <td>False</td>\n",
       "      <td>False</td>\n",
       "      <td>False</td>\n",
       "      <td>False</td>\n",
       "      <td>1</td>\n",
       "      <td>0</td>\n",
       "      <td>0</td>\n",
       "    </tr>\n",
       "  </tbody>\n",
       "</table>\n",
       "<p>3 rows × 57 columns</p>\n",
       "</div>"
      ],
      "text/plain": [
       "                                              file_name institution  \\\n",
       "7915                    http:^^www.ics.uci.edu^~dfrost^        misc   \n",
       "3726               http:^^www.cs.tamu.edu^research^SPI^        misc   \n",
       "4521  http:^^www.cs.utexas.edu^users^almstrum^classe...       texas   \n",
       "\n",
       "          output  number_weblinks_total  number_emails_total  has_link_edu  \\\n",
       "7915     student                      0                    0         False   \n",
       "3726  department                      0                    1         False   \n",
       "4521      course                      0                    2         False   \n",
       "\n",
       "      has_email_edu  has_title_department  has_header_department  \\\n",
       "7915          False                 False                  False   \n",
       "3726           True                 False                  False   \n",
       "4521           True                 False                  False   \n",
       "\n",
       "      has_title_prof         ...          report  seminar  group  staff  \\\n",
       "7915           False         ...           False    False  False  False   \n",
       "3726           False         ...           False    False  False  False   \n",
       "4521           False         ...           False    False  False  False   \n",
       "\n",
       "      Support  student  resume  count_text_department  count_text_college  \\\n",
       "7915    False    False   False                      0                   0   \n",
       "3726    False    False   False                      2                   0   \n",
       "4521    False    False   False                      1                   0   \n",
       "\n",
       "      count_text_project  \n",
       "7915                   0  \n",
       "3726                   1  \n",
       "4521                   0  \n",
       "\n",
       "[3 rows x 57 columns]"
      ]
     },
     "execution_count": 13,
     "metadata": {
      "tags": []
     },
     "output_type": "execute_result"
    }
   ],
   "source": [
    "print(len(df_testing.columns), list(df_testing.columns))\n",
    "df_testing.head(3)"
   ]
  },
  {
   "cell_type": "markdown",
   "metadata": {
    "id": "kHaPCkiahvJO",
    "colab_type": "text"
   },
   "source": [
    "## Classificação\n",
    "\n",
    "Para o aprendizado da classificação das páginas web são utilizados dois métodos,\n",
    "1. Árvore de decisão / CART\n",
    "2. SVM\n",
    "\n",
    "As bibliotecas utilizadas pelos dois métodos são:"
   ]
  },
  {
   "cell_type": "code",
   "execution_count": 0,
   "metadata": {
    "id": "6_DMJgcohvJS",
    "colab_type": "code",
    "colab": {}
   },
   "outputs": [],
   "source": [
    "from sklearn import tree, svm\n",
    "from sklearn.metrics import confusion_matrix, accuracy_score\n",
    "from sklearn.model_selection import cross_val_score, cross_validate\n",
    "import matplotlib.pyplot as plt\n",
    "import numpy as np\n",
    "import seaborn as sn\n",
    "%matplotlib inline\n",
    "plt.style.use('dark_background')"
   ]
  },
  {
   "cell_type": "markdown",
   "metadata": {
    "id": "M9nfIuPahvJa",
    "colab_type": "text"
   },
   "source": [
    "### Treinamento Árvlore de Decisão"
   ]
  },
  {
   "cell_type": "code",
   "execution_count": 0,
   "metadata": {
    "id": "qzDxQrumhvJd",
    "colab_type": "code",
    "colab": {}
   },
   "outputs": [],
   "source": [
    "features_dt = HAS_HEADER + HAS_TEXT_ELEMENTS + list(COUNT_TEXT_ELEMENTS.keys())# + COUNT_HYPERLINKS + HAS_HYPERLINKS\n",
    "output_dt = [\"output\"]\n",
    "\n",
    "X_dt = df[features_dt]\n",
    "Y_dt = df[output_dt]\n",
    "\n",
    "Xtrain_dt = df_training[features_dt]\n",
    "Ytrain_dt = df_training[output_dt]\n",
    "\n",
    "DT = tree.DecisionTreeClassifier(criterion='gini',min_samples_split=20,random_state=seed)\n",
    "clf_dt = DT.fit(Xtrain_dt, Ytrain_dt)"
   ]
  },
  {
   "cell_type": "markdown",
   "metadata": {
    "id": "YjrP0QTghvJn",
    "colab_type": "text"
   },
   "source": [
    "#### Análise dos Resultados\n",
    "\n",
    "A análise dos resultados é avaliada de duas maneiras:\n",
    "\n",
    "Primeiramente os dados previamente definidos como dados de teste são utilizados para identificar o poder de predição do modelo obtido. Os resultados são então condensados em dois indicadores:\n",
    "* Percentual geral do erro de predição dos dados de teste\n",
    "* Matriz de confusão, que discrimina como foram classificados os exemplos de teste dentro de cada categoria, tanto os acertos quanto os erros.\n",
    "\n",
    "Finalmente a performance da técnica escolhida é avaliada segundo o método de validação cruzada. Neste o estimador é testado n vezes para diferentes cortes de dados de treinamente e dados de teste. Este método de validação cruzada permite obter uma melhor avaliação do impacto da escolha dos dados de treinamento para o problema a ser resolvido. "
   ]
  },
  {
   "cell_type": "code",
   "execution_count": 0,
   "metadata": {
    "id": "59flodsfhvJo",
    "colab_type": "code",
    "colab": {}
   },
   "outputs": [],
   "source": [
    "# Predição\n",
    "n = -1\n",
    "Xtest_dt = df_testing[features_dt].iloc[:n,:]\n",
    "Ytest_dt = df_testing[output_dt].iloc[:n,:]\n",
    "Ypred_dt = clf_dt.predict(Xtest_dt)"
   ]
  },
  {
   "cell_type": "code",
   "execution_count": 0,
   "metadata": {
    "id": "_QAVWce_hvJx",
    "colab_type": "code",
    "colab": {},
    "outputId": "e60558f8-34f4-404d-d9ae-f7ac83618383"
   },
   "outputs": [
    {
     "name": "stdout",
     "output_type": "stream",
     "text": [
      "Accuracy: 68.22 % \n",
      "Confusion Matrix:\n"
     ]
    },
    {
     "data": {
      "image/png": "[encoded data removed]",
      "text/plain": [
       "<Figure size 720x504 with 2 Axes>"
      ]
     },
     "metadata": {
      "tags": []
     },
     "output_type": "display_data"
    }
   ],
   "source": [
    "df_results_dt = pd.DataFrame({\"real\":list(Ytest_dt[\"output\"]), \"prediction\":Ypred_dt})\n",
    "df_results_dt[\"is_equal\"] = df_results_dt[\"real\"] == df_results_dt[\"prediction\"]\n",
    "\n",
    "### Accuracy\n",
    "print(\"Accuracy: {0:.2f} % \".format(100*accuracy_score(Ytest_dt,Ypred_dt))) \n",
    "### Confusion Matrix\n",
    "print(\"Confusion Matrix:\")\n",
    "cm_dt = confusion_matrix(df_results_dt[\"real\"],df_results_dt[\"prediction\"])\n",
    "cm_dt = cm_dt.astype('float') / cm_dt.sum(axis=1)[:, np.newaxis]\n",
    "df_cm_dt = pd.DataFrame(cm_dt, index = outputs,\n",
    "                  columns = outputs)\n",
    "plt.figure(figsize = (10,7))\n",
    "plt.tight_layout()\n",
    "ax_dt = sn.heatmap(df_cm_dt, annot=True,cmap=plt.cm.RdPu)\n",
    "ax_dt.set(xlabel='Predicted label', ylabel='True label',title='Confusion Matrix')\n",
    "plt.show()"
   ]
  },
  {
   "cell_type": "code",
   "execution_count": 0,
   "metadata": {
    "id": "dkOciUWthvJ5",
    "colab_type": "code",
    "colab": {},
    "outputId": "f2d390a3-58b4-4aa8-959c-46786e56b708"
   },
   "outputs": [
    {
     "name": "stdout",
     "output_type": "stream",
     "text": [
      "Test Score: 0.6564 (+/- 0.0359) \n",
      "Fit Time: 0.0519 s (+/- 0.0015) \n",
      "Score Time:  0.0032 s (+/- 0.0001) \n",
      "Train Score:  0.7847 (+/- 0.0022)\n"
     ]
    }
   ],
   "source": [
    "### Cross-Validation\n",
    "X_dt = df[features_dt]\n",
    "Y_dt = df[output_dt]\n",
    "number_of_cross_validations_dt = 10\n",
    "cvs_dt = cross_validate(DT, X_dt, Y_dt, cv=number_of_cross_validations_dt)\n",
    "cvs_mean_dt = {k+\"_mean\":v.mean() for k,v in cvs_dt.items()}\n",
    "cvs_std_dt = {k+\"_std\":v.std() for k,v in cvs_dt.items()}\n",
    "{**cvs_mean_dt, **cvs_std_dt}\n",
    "print(\"Test Score: {test_score_mean:.4f} (+/- {test_score_std:.4f}) \\nFit Time: {fit_time_mean:.4f} s (+/- {fit_time_std:.4f}) \\nScore Time:  {score_time_mean:.4f} s (+/- {score_time_std:.4f}) \\nTrain Score:  {train_score_mean:.4f} (+/- {train_score_std:.4f})\".format(**{**cvs_mean_dt, **cvs_std_dt}))"
   ]
  },
  {
   "cell_type": "code",
   "execution_count": 0,
   "metadata": {
    "id": "no7ril3jhvKD",
    "colab_type": "code",
    "colab": {}
   },
   "outputs": [],
   "source": [
    "# print(\"Confusion matrix as a table:\")\n",
    "# print(df_results_dt.groupby([\"real\",\"is_equal\",\"prediction\"]).size().groupby(level=0).apply(lambda x: 100*x/sum(x)))\n",
    "# print(\"Consolidated confusion matrix as a table:\")\n",
    "# print(df_results_dt.groupby([\"real\",\"is_equal\"]).count().groupby(level=0).apply(lambda x: 100 * x / float(x.sum())))"
   ]
  },
  {
   "cell_type": "code",
   "execution_count": 0,
   "metadata": {
    "id": "qzr44QkhhvKF",
    "colab_type": "code",
    "colab": {}
   },
   "outputs": [],
   "source": [
    "#Plotar a árvore de decisão\n",
    "import graphviz \n",
    "dot_data = tree.export_graphviz(clf_dt, out_file=None, \n",
    "                         feature_names=df[features_dt].columns,  \n",
    "                         class_names=outputs,  \n",
    "                         filled=True, rounded=True,  \n",
    "                         special_characters=True)  \n",
    "graph = graphviz.Source(dot_data)\n",
    "# graph"
   ]
  },
  {
   "cell_type": "markdown",
   "metadata": {
    "id": "D13QrumShvKI",
    "colab_type": "text"
   },
   "source": [
    "### Suport Vector Machine"
   ]
  },
  {
   "cell_type": "code",
   "execution_count": 0,
   "metadata": {
    "id": "keNFuJhShvKO",
    "colab_type": "code",
    "colab": {},
    "outputId": "2dcb17a6-9735-41c9-fc1f-0f2966445f7b"
   },
   "outputs": [
    {
     "name": "stderr",
     "output_type": "stream",
     "text": [
      "/home/eohulse/bin/miniconda3/envs/python3/lib/python3.6/site-packages/sklearn/utils/validation.py:578: DataConversionWarning: A column-vector y was passed when a 1d array was expected. Please change the shape of y to (n_samples, ), for example using ravel().\n",
      "  y = column_or_1d(y, warn=True)\n"
     ]
    }
   ],
   "source": [
    "features_svm = HAS_HEADER + HAS_TEXT_ELEMENTS + list(COUNT_TEXT_ELEMENTS.keys())# + COUNT_HYPERLINKS + HAS_HYPERLINKS\n",
    "output_svm = [\"output\"]\n",
    "\n",
    "Xtrain_svm = df_training[features_svm]\n",
    "Ytrain_svm = df_training[output_svm]\n",
    "\n",
    "SVM = svm.SVC()\n",
    "clf_svm = SVM.fit(Xtrain_svm, Ytrain_svm)  "
   ]
  },
  {
   "cell_type": "markdown",
   "metadata": {
    "id": "5MPha3eDhvKa",
    "colab_type": "text"
   },
   "source": [
    "#### Análise dos Resultados\n",
    "\n",
    "A análise dos resultados é avaliada de duas maneiras:\n",
    "\n",
    "Primeiramente os dados previamente definidos como dados de teste são utilizados para identificar o poder de predição do modelo obtido. Os resultados são então condensados em dois indicadores:\n",
    "* Percentual geral do erro de predição dos dados de teste\n",
    "* Matriz de confusão, que discrimina como foram classificados os exemplos de teste dentro de cada categoria, tanto os acertos quanto os erros.\n",
    "\n",
    "Finalmente a performance da técnica escolhida é avaliada segundo o método de validação cruzada. Neste o estimador é testado n vezes para diferentes cortes de dados de treinamente e dados de teste. Este método de validação cruzada permite obter uma melhor avaliação do impacto da escolha dos dados de treinamento para o problema a ser resolvido. "
   ]
  },
  {
   "cell_type": "code",
   "execution_count": 0,
   "metadata": {
    "id": "nSDLdSN2hvKb",
    "colab_type": "code",
    "colab": {}
   },
   "outputs": [],
   "source": [
    "# Predição\n",
    "n = -1\n",
    "Xtest_svm = df_testing[features_svm].iloc[:n,:]\n",
    "Ytest_svm = df_testing[output_svm].iloc[:n,:]\n",
    "Ypred_svm = clf_svm.predict(Xtest_svm)"
   ]
  },
  {
   "cell_type": "code",
   "execution_count": 0,
   "metadata": {
    "id": "7ihMEUjdhvKn",
    "colab_type": "code",
    "colab": {},
    "outputId": "494afb28-f916-4cae-de7e-27296d1b9423"
   },
   "outputs": [
    {
     "name": "stdout",
     "output_type": "stream",
     "text": [
      "Accuracy: 70.69 % \n",
      "Confusion Matrix:\n"
     ]
    },
    {
     "data": {
      "image/png": "[encoded data removed]",
      "text/plain": [
       "<Figure size 720x504 with 2 Axes>"
      ]
     },
     "metadata": {
      "tags": []
     },
     "output_type": "display_data"
    }
   ],
   "source": [
    "df_results_svm = pd.DataFrame({\"real\":list(Ytest_svm[\"output\"]), \"prediction\":Ypred_svm})\n",
    "df_results_svm[\"is_equal\"] = df_results_svm[\"real\"] == df_results_svm[\"prediction\"]\n",
    "\n",
    "### Accuracy\n",
    "print(\"Accuracy: {0:.2f} % \".format(100*accuracy_score(Ytest_svm,Ypred_svm))) \n",
    "### Confusion Matrix\n",
    "print(\"Confusion Matrix:\")\n",
    "cm_svm = confusion_matrix(df_results_svm[\"real\"],df_results_svm[\"prediction\"])\n",
    "cm_svm = cm_svm.astype('float') / cm_svm.sum(axis=1)[:, np.newaxis]\n",
    "df_cm_svm = pd.DataFrame(cm_svm, index = outputs,\n",
    "                  columns = outputs)\n",
    "plt.figure(figsize = (10,7))\n",
    "plt.tight_layout()\n",
    "ax_svm = sn.heatmap(df_cm_svm, annot=True,cmap=plt.cm.RdPu)\n",
    "ax_svm.set(xlabel='Predicted label', ylabel='True label',title='Confusion Matrix')\n",
    "plt.show()"
   ]
  },
  {
   "cell_type": "code",
   "execution_count": 0,
   "metadata": {
    "id": "kFmPfL8HhvKt",
    "colab_type": "code",
    "colab": {},
    "outputId": "eb1a587a-3d78-4f53-bec3-1819133fbcfb"
   },
   "outputs": [
    {
     "name": "stderr",
     "output_type": "stream",
     "text": [
      "/home/eohulse/bin/miniconda3/envs/python3/lib/python3.6/site-packages/sklearn/utils/validation.py:578: DataConversionWarning: A column-vector y was passed when a 1d array was expected. Please change the shape of y to (n_samples, ), for example using ravel().\n",
      "  y = column_or_1d(y, warn=True)\n",
      "/home/eohulse/bin/miniconda3/envs/python3/lib/python3.6/site-packages/sklearn/utils/validation.py:578: DataConversionWarning: A column-vector y was passed when a 1d array was expected. Please change the shape of y to (n_samples, ), for example using ravel().\n",
      "  y = column_or_1d(y, warn=True)\n",
      "/home/eohulse/bin/miniconda3/envs/python3/lib/python3.6/site-packages/sklearn/utils/validation.py:578: DataConversionWarning: A column-vector y was passed when a 1d array was expected. Please change the shape of y to (n_samples, ), for example using ravel().\n",
      "  y = column_or_1d(y, warn=True)\n",
      "/home/eohulse/bin/miniconda3/envs/python3/lib/python3.6/site-packages/sklearn/utils/validation.py:578: DataConversionWarning: A column-vector y was passed when a 1d array was expected. Please change the shape of y to (n_samples, ), for example using ravel().\n",
      "  y = column_or_1d(y, warn=True)\n",
      "/home/eohulse/bin/miniconda3/envs/python3/lib/python3.6/site-packages/sklearn/utils/validation.py:578: DataConversionWarning: A column-vector y was passed when a 1d array was expected. Please change the shape of y to (n_samples, ), for example using ravel().\n",
      "  y = column_or_1d(y, warn=True)\n",
      "/home/eohulse/bin/miniconda3/envs/python3/lib/python3.6/site-packages/sklearn/utils/validation.py:578: DataConversionWarning: A column-vector y was passed when a 1d array was expected. Please change the shape of y to (n_samples, ), for example using ravel().\n",
      "  y = column_or_1d(y, warn=True)\n",
      "/home/eohulse/bin/miniconda3/envs/python3/lib/python3.6/site-packages/sklearn/utils/validation.py:578: DataConversionWarning: A column-vector y was passed when a 1d array was expected. Please change the shape of y to (n_samples, ), for example using ravel().\n",
      "  y = column_or_1d(y, warn=True)\n",
      "/home/eohulse/bin/miniconda3/envs/python3/lib/python3.6/site-packages/sklearn/utils/validation.py:578: DataConversionWarning: A column-vector y was passed when a 1d array was expected. Please change the shape of y to (n_samples, ), for example using ravel().\n",
      "  y = column_or_1d(y, warn=True)\n",
      "/home/eohulse/bin/miniconda3/envs/python3/lib/python3.6/site-packages/sklearn/utils/validation.py:578: DataConversionWarning: A column-vector y was passed when a 1d array was expected. Please change the shape of y to (n_samples, ), for example using ravel().\n",
      "  y = column_or_1d(y, warn=True)\n",
      "/home/eohulse/bin/miniconda3/envs/python3/lib/python3.6/site-packages/sklearn/utils/validation.py:578: DataConversionWarning: A column-vector y was passed when a 1d array was expected. Please change the shape of y to (n_samples, ), for example using ravel().\n",
      "  y = column_or_1d(y, warn=True)\n"
     ]
    },
    {
     "name": "stdout",
     "output_type": "stream",
     "text": [
      "Test Score: 0.7014 (+/- 0.0273) \n",
      "Fit Time: 4.1125 s (+/- 0.1311) \n",
      "Score Time:  0.3861 s (+/- 0.0092) \n",
      "Train Score:  0.7245 (+/- 0.0039)\n"
     ]
    }
   ],
   "source": [
    "### Cross-Validation\n",
    "X_svm = df[features_svm]\n",
    "Y_svm = df[output_svm]\n",
    "number_of_cross_validations_svm = 10\n",
    "cvs_svm = cross_validate(SVM, X_dt, Y_dt, cv=number_of_cross_validations_svm)\n",
    "cvs_mean_svm = {k+\"_mean\":v.mean() for k,v in cvs_svm.items()}\n",
    "cvs_std_svm = {k+\"_std\":v.std() for k,v in cvs_svm.items()}\n",
    "print(\"Test Score: {test_score_mean:.4f} (+/- {test_score_std:.4f}) \\nFit Time: {fit_time_mean:.4f} s (+/- {fit_time_std:.4f}) \\nScore Time:  {score_time_mean:.4f} s (+/- {score_time_std:.4f}) \\nTrain Score:  {train_score_mean:.4f} (+/- {train_score_std:.4f})\".format(**{**cvs_mean_svm, **cvs_std_svm}))"
   ]
  },
  {
   "cell_type": "markdown",
   "metadata": {
    "id": "Vcq-H1mDhvK0",
    "colab_type": "text"
   },
   "source": [
    "## Considerações finais"
   ]
  },
  {
   "cell_type": "markdown",
   "metadata": {
    "id": "B0ypIe3LhvK0",
    "colab_type": "text"
   },
   "source": [
    "Os resultados obtidos indicam uma performance semelhante para os dois métodos utilizados, com ligeira vantagem para o modelo de predição desenvolvido com Support Vector Machine, 68% contra 70%. Contúdo o tempo para treinar o preditor de SVM é quase 100 vezes maior.\n",
    "\n",
    "Um outro ponto que influenciaria muito no resultado e que poderia ser mais bem explorado é o pré-processamento dos dados. Uma abrodagem alternativa seria a geração de um dicionario de palavras mais comuns para cada uma das possíveis classificações. Baseando-se nessas palavras então poderia-se fazer a geração dos preditores."
   ]
  },
  {
   "cell_type": "markdown",
   "metadata": {
    "id": "atu8Awa1hvK2",
    "colab_type": "text"
   },
   "source": [
    "# Outros testes\n",
    "\n",
    "Daqui pra baixo eu fiz alguns outros testes, por exemplo com random forest, mas que não foram muito melhores do que o que ja tinha conseguido com svm ou arvore de decisão.\n",
    "\n",
    "Esta parte a principio não entraria no relatorio..."
   ]
  },
  {
   "cell_type": "code",
   "execution_count": 0,
   "metadata": {
    "id": "JcK5dUnzhvK3",
    "colab_type": "code",
    "colab": {},
    "outputId": "848e94aa-bf99-44aa-a538-2410e7d47fe8"
   },
   "outputs": [
    {
     "name": "stderr",
     "output_type": "stream",
     "text": [
      "/home/eohulse/bin/miniconda3/envs/python3/lib/python3.6/site-packages/ipykernel/__main__.py:10: DataConversionWarning: A column-vector y was passed when a 1d array was expected. Please change the shape of y to (n_samples,), for example using ravel().\n"
     ]
    }
   ],
   "source": [
    "from sklearn.ensemble import RandomForestClassifier\n",
    "features_rf = HAS_HEADER + HAS_TEXT_ELEMENTS + list(COUNT_TEXT_ELEMENTS.keys())# + COUNT_HYPERLINKS + HAS_HYPERLINKS\n",
    "output_rf = [\"output\"]\n",
    "\n",
    "Xtrain_rf = df_training[features_rf]\n",
    "Ytrain_rf = df_training[output_rf]\n",
    "\n",
    "\n",
    "RF = RandomForestClassifier(n_estimators=90, criterion='entropy')\n",
    "clf_rf = RF.fit(Xtrain_rf,Ytrain_rf) "
   ]
  },
  {
   "cell_type": "code",
   "execution_count": 0,
   "metadata": {
    "id": "7LzNPH2NhvK8",
    "colab_type": "code",
    "colab": {},
    "outputId": "565a11f9-0332-4f47-fed8-6a458fe10595"
   },
   "outputs": [
    {
     "name": "stdout",
     "output_type": "stream",
     "text": [
      "Accuracy: 69.67 % \n",
      "Confusion Matrix:\n"
     ]
    },
    {
     "data": {
      "image/png": "[encoded data removed]",
      "text/plain": [
       "<Figure size 720x504 with 2 Axes>"
      ]
     },
     "metadata": {
      "tags": []
     },
     "output_type": "display_data"
    }
   ],
   "source": [
    "# Predição\n",
    "n = -1\n",
    "Xtest_rf = df_testing[features_rf].iloc[:n,:]\n",
    "Ytest_rf = df_testing[output_rf].iloc[:n,:]\n",
    "Ypred_rf = clf_rf.predict(Xtest_rf)\n",
    "\n",
    "df_results_rf = pd.DataFrame({\"real\":list(Ytest_rf[\"output\"]), \"prediction\":Ypred_rf})\n",
    "df_results_rf[\"is_equal\"] = df_results_rf[\"real\"] == df_results_rf[\"prediction\"]\n",
    "\n",
    "### Accuracy\n",
    "print(\"Accuracy: {0:.2f} % \".format(100*accuracy_score(Ytest_rf,Ypred_rf))) \n",
    "### Confusion Matrix\n",
    "print(\"Confusion Matrix:\")\n",
    "cm_rf = confusion_matrix(df_results_rf[\"real\"],df_results_rf[\"prediction\"])\n",
    "cm_rf = cm_rf.astype('float') / cm_rf.sum(axis=1)[:, np.newaxis]\n",
    "df_cm_rf = pd.DataFrame(cm_rf, index = outputs,\n",
    "                  columns = outputs)\n",
    "plt.figure(figsize = (10,7))\n",
    "plt.tight_layout()\n",
    "ax_rf = sn.heatmap(df_cm_rf, annot=True,cmap=plt.cm.RdPu)\n",
    "ax_rf.set(xlabel='Predicted label', ylabel='True label',title='Confusion Matrix')\n",
    "plt.show()"
   ]
  },
  {
   "cell_type": "code",
   "execution_count": 0,
   "metadata": {
    "id": "8n3NixB1hvLA",
    "colab_type": "code",
    "colab": {},
    "outputId": "4f9a51e7-d701-4d01-f164-908e0a2e49fb"
   },
   "outputs": [
    {
     "name": "stderr",
     "output_type": "stream",
     "text": [
      "/home/eohulse/bin/miniconda3/envs/python3/lib/python3.6/site-packages/sklearn/model_selection/_validation.py:458: DataConversionWarning: A column-vector y was passed when a 1d array was expected. Please change the shape of y to (n_samples,), for example using ravel().\n",
      "  estimator.fit(X_train, y_train, **fit_params)\n",
      "/home/eohulse/bin/miniconda3/envs/python3/lib/python3.6/site-packages/sklearn/model_selection/_validation.py:458: DataConversionWarning: A column-vector y was passed when a 1d array was expected. Please change the shape of y to (n_samples,), for example using ravel().\n",
      "  estimator.fit(X_train, y_train, **fit_params)\n",
      "/home/eohulse/bin/miniconda3/envs/python3/lib/python3.6/site-packages/sklearn/model_selection/_validation.py:458: DataConversionWarning: A column-vector y was passed when a 1d array was expected. Please change the shape of y to (n_samples,), for example using ravel().\n",
      "  estimator.fit(X_train, y_train, **fit_params)\n",
      "/home/eohulse/bin/miniconda3/envs/python3/lib/python3.6/site-packages/sklearn/model_selection/_validation.py:458: DataConversionWarning: A column-vector y was passed when a 1d array was expected. Please change the shape of y to (n_samples,), for example using ravel().\n",
      "  estimator.fit(X_train, y_train, **fit_params)\n",
      "/home/eohulse/bin/miniconda3/envs/python3/lib/python3.6/site-packages/sklearn/model_selection/_validation.py:458: DataConversionWarning: A column-vector y was passed when a 1d array was expected. Please change the shape of y to (n_samples,), for example using ravel().\n",
      "  estimator.fit(X_train, y_train, **fit_params)\n",
      "/home/eohulse/bin/miniconda3/envs/python3/lib/python3.6/site-packages/sklearn/model_selection/_validation.py:458: DataConversionWarning: A column-vector y was passed when a 1d array was expected. Please change the shape of y to (n_samples,), for example using ravel().\n",
      "  estimator.fit(X_train, y_train, **fit_params)\n",
      "/home/eohulse/bin/miniconda3/envs/python3/lib/python3.6/site-packages/sklearn/model_selection/_validation.py:458: DataConversionWarning: A column-vector y was passed when a 1d array was expected. Please change the shape of y to (n_samples,), for example using ravel().\n",
      "  estimator.fit(X_train, y_train, **fit_params)\n",
      "/home/eohulse/bin/miniconda3/envs/python3/lib/python3.6/site-packages/sklearn/model_selection/_validation.py:458: DataConversionWarning: A column-vector y was passed when a 1d array was expected. Please change the shape of y to (n_samples,), for example using ravel().\n",
      "  estimator.fit(X_train, y_train, **fit_params)\n",
      "/home/eohulse/bin/miniconda3/envs/python3/lib/python3.6/site-packages/sklearn/model_selection/_validation.py:458: DataConversionWarning: A column-vector y was passed when a 1d array was expected. Please change the shape of y to (n_samples,), for example using ravel().\n",
      "  estimator.fit(X_train, y_train, **fit_params)\n",
      "/home/eohulse/bin/miniconda3/envs/python3/lib/python3.6/site-packages/sklearn/model_selection/_validation.py:458: DataConversionWarning: A column-vector y was passed when a 1d array was expected. Please change the shape of y to (n_samples,), for example using ravel().\n",
      "  estimator.fit(X_train, y_train, **fit_params)\n"
     ]
    },
    {
     "name": "stdout",
     "output_type": "stream",
     "text": [
      "Test Score: 0.6851 (+/- 0.0355) \n",
      "Fit Time: 0.7865 s (+/- 0.0238) \n",
      "Score Time:  0.0253 s (+/- 0.0006) \n",
      "Train Score:  0.9156 (+/- 0.0019)\n"
     ]
    }
   ],
   "source": [
    "### Cross-Validation\n",
    "X_rf = df[features_rf]\n",
    "Y_rf = df[output_rf]\n",
    "number_of_cross_validations_rf = 10\n",
    "cvs_rf = cross_validate(RF, X_dt, Y_dt, cv=number_of_cross_validations_rf)\n",
    "cvs_mean_rf = {k+\"_mean\":v.mean() for k,v in cvs_rf.items()}\n",
    "cvs_std_rf = {k+\"_std\":v.std() for k,v in cvs_rf.items()}\n",
    "print(\"Test Score: {test_score_mean:.4f} (+/- {test_score_std:.4f}) \\nFit Time: {fit_time_mean:.4f} s (+/- {fit_time_std:.4f}) \\nScore Time:  {score_time_mean:.4f} s (+/- {score_time_std:.4f}) \\nTrain Score:  {train_score_mean:.4f} (+/- {train_score_std:.4f})\".format(**{**cvs_mean_rf, **cvs_std_rf}))"
   ]
  },
  {
   "cell_type": "code",
   "execution_count": 0,
   "metadata": {
    "id": "hBquJWMlhvLD",
    "colab_type": "code",
    "colab": {}
   },
   "outputs": [],
   "source": [
    ""
   ]
  }
 ],
 "metadata": {
  "colab": {
   "name": "trabalho_pratico.ipynb",
   "version": "0.3.2",
   "provenance": []
  },
  "kernelspec": {
   "display_name": "Python [default]",
   "language": "python",
   "name": "python3"
  }
 },
 "nbformat": 4,
 "nbformat_minor": 0
}
