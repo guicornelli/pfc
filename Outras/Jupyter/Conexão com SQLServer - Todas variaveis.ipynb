{
 "cells": [
  {
   "cell_type": "markdown",
   "metadata": {},
   "source": [
    "# Acesso ao banco SQL Server"
   ]
  },
  {
   "cell_type": "code",
   "execution_count": null,
   "metadata": {},
   "outputs": [],
   "source": [
    "from __future__ import division\n",
    "import pymssql\n",
    "import numpy as np\n",
    "import time\n",
    "import matplotlib.pyplot as plt\n",
    "from datetime import date, datetime, timedelta\n",
    "from InfosVariaveis import caracteristicas\n",
    "from pylab import plot, ylim, xlim, show, xlabel, ylabel, grid\n",
    "from numpy import linspace, loadtxt, ones, convolve"
   ]
  },
  {
   "cell_type": "code",
   "execution_count": null,
   "metadata": {},
   "outputs": [],
   "source": [
    "import pymssql\n",
    "ini = time.time()\n",
    "conn = pymssql.connect(host='NTB032\\\\NTB032',user='sa',password='bdrc2018',database='ISOTROL',as_dict=False,charset='UTF-8')"
   ]
  },
  {
   "cell_type": "code",
   "execution_count": 1,
   "metadata": {},
   "outputs": [],
   "source": [
    "### MEDIA MOVEL ###\n",
    "def movingaverage(interval, window_size):\n",
    "    window = np.ones(int(window_size))/float(window_size)\n",
    "    return np.convolve(interval, window, 'same')"
   ]
  },
  {
   "cell_type": "code",
   "execution_count": null,
   "metadata": {},
   "outputs": [],
   "source": [
    "gamesaP=[18,87,208,383,620,938,1348,1743,1937,1988,1998,2000,2000,2000,2000,2000,2000,2000,2000,1906,1681,1455,1230]\n",
    "gamesaW=[3,4,5,6,7,8,9,10,11,12,13,14,15,16,17,18,19,20,21,22,23,24,25]"
   ]
  },
  {
   "cell_type": "markdown",
   "metadata": {},
   "source": [
    "### Query para importar nomes das tabelas e excluir as não necessárias"
   ]
  },
  {
   "cell_type": "code",
   "execution_count": null,
   "metadata": {},
   "outputs": [],
   "source": [
    "cur1 = conn.cursor()\n",
    "cur1.execute(\"SELECT name FROM sys.tables;\")\n",
    "tables = cur1.fetchall()\n",
    "del(tables[40], tables[40], tables[40], tables[-1])\n",
    "cur1.close()"
   ]
  },
  {
   "cell_type": "markdown",
   "metadata": {},
   "source": [
    "### Importar todas as variáveis e salvar no arquivo "
   ]
  },
  {
   "cell_type": "code",
   "execution_count": null,
   "metadata": {},
   "outputs": [],
   "source": [
    "for k in tables:\n",
    "    if k[0] not in caracteristicas.keys():\n",
    "        print(str(k[0]))\n",
    "        cur2 = conn.cursor()\n",
    "        cur2.execute(\"SELECT * \"\n",
    "                    \"FROM [\"+str(k[0])+\"]\"\n",
    "                    \"ORDER BY TimeStampConvert;\")\n",
    "        value = []\n",
    "        timestamp = []\n",
    "        for row in cur2:\n",
    "            value.append(row[1])\n",
    "            timestamp.append(row[3])\n",
    "        cur2.close()\n",
    "\n",
    "        value = np.array(value)\n",
    "        timestamp = np.array(timestamp)\n",
    "        name = row[0]+\"_A01\"\n",
    "        \n",
    "        x = timestamp\n",
    "        y = value\n",
    "\n",
    "        plt.scatter(x,y,c=\"k\", alpha=0.5)\n",
    "        y_av = movingaverage(y, 1000)\n",
    "        plt.plot(x, y_av,\"r\")\n",
    "        plt.xlabel(\"Timestamp\")\n",
    "        plt.ylabel(\"Value\")\n",
    "        plt.grid(True)\n",
    "        plt.draw()\n",
    "        plt.savefig('C:/Users/g.souza/PycharmProjects/EPMProcessorTestes/Graphs/'+str(name)+'.png')\n",
    "        \n",
    "        maximo = value.max()\n",
    "        minimo = value.min()\n",
    "        media = value.mean()\n",
    "        mediamovel = y_av.mean()\n",
    "        totalpontos = len(value)\n",
    "        primeiradata = timestamp[0]\n",
    "        ultimadata = timestamp[-1]\n",
    "        tempomedicao = (ultimadata - primeiradata)\n",
    "        tempototal = \"%d dias e %d horas\"%(tempomedicao.days, (round(tempomedicao.seconds/3600)))\n",
    "        fim = time.time()\n",
    "        texec = (fim - ini)\n",
    "        \n",
    "        with open('C:/Users/g.souza/PycharmProjects/EPMProcessorTestes/InfosVariaveis.py', 'a') as arq:\n",
    "            novosvalores = \"caracteristicas[\" + \"\\\"\" + name + \"\\\"\" + \"]={'max':\"+\" \"+str(maximo)+\", 'min':\"+\" \"+str(minimo)+\", 'media':\"+\" \"+str(media)+\", 'mediamovel':\"+\" \"+str(mediamovel)+\", 'tamanho':\"+\" \"+str(totalpontos)+\", 't(s)exec':\"+\" \"+str(texec)+\", 'primeiroponto':\" + \" \\'\" + str(primeiradata) + \"\\'\" + \", 'ultimoponto':\" + \" \\'\" + str(ultimadata) + \"\\'\" + \", 'tempo de medicao':\" + \" \\'\" + str(tempototal) + \"\\'\" + \"}\\n\"\n",
    "            arq.write(novosvalores)\n",
    "conn.close()"
   ]
  }
 ],
 "metadata": {
  "kernelspec": {
   "display_name": "Python 3",
   "language": "python",
   "name": "python3"
  },
  "language_info": {
   "codemirror_mode": {
    "name": "ipython",
    "version": 3
   },
   "file_extension": ".py",
   "mimetype": "text/x-python",
   "name": "python",
   "nbconvert_exporter": "python",
   "pygments_lexer": "ipython3",
   "version": "3.5.5"
  }
 },
 "nbformat": 4,
 "nbformat_minor": 2
}
